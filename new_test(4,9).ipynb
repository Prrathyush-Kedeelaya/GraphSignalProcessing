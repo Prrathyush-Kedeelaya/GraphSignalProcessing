{
 "cells": [
  {
   "cell_type": "code",
   "execution_count": 4,
   "id": "db557bc0",
   "metadata": {},
   "outputs": [],
   "source": [
    "from sklearn.datasets import fetch_openml\n",
    "from sklearn.neighbors import NearestNeighbors\n",
    "import numpy as np\n",
    "\n",
    "# Load the NIST dataset (you might need to adjust the version)\n",
    "nist = fetch_openml('mnist_784', version=1, parser='auto')\n",
    "X = np.array(nist.data.astype('float64'))\n",
    "y = nist.target.astype('int')"
   ]
  },
  {
   "cell_type": "code",
   "execution_count": 5,
   "id": "67395cf8",
   "metadata": {},
   "outputs": [],
   "source": [
    "# Labeling: +1 for 4, -1 for 9, 0 for unknown\n",
    "y_binary = np.where(y == 4, 1, np.where(y == 9, -1, 0))\n",
    "\n",
    "# Use a smaller subset of the data for testing\n",
    "subset_size = 1000  # You can adjust this number based on your available memory\n",
    "subset_indices = np.random.choice(len(X), size=subset_size, replace=False)\n",
    "X_subset = X[subset_indices]\n",
    "y_binary_subset = y_binary[subset_indices]"
   ]
  },
  {
   "cell_type": "code",
   "execution_count": 6,
   "id": "52313790",
   "metadata": {},
   "outputs": [],
   "source": [
    "# Step 1: Construct the K-NN Graph for Subset\n",
    "k = 6  # Number of nearest neighbors\n",
    "nbrs = NearestNeighbors(n_neighbors=k, algorithm='ball_tree').fit(X_subset)\n",
    "distances, indices = nbrs.kneighbors(X_subset)\n",
    "A = np.zeros((len(X_subset), len(X_subset)))\n",
    "\n",
    "# Create the adjacency matrix based on k-NN for Subset\n",
    "for i in range(len(X_subset)):\n",
    "    for j in indices[i]:\n",
    "        A[i, j] = 1\n",
    "        A[j, i] = 1  # Assuming an undirected graph"
   ]
  },
  {
   "cell_type": "code",
   "execution_count": 7,
   "id": "50fd0923",
   "metadata": {},
   "outputs": [],
   "source": [
    "# Step 2: Define the Known Labels Signal and Diagonal Matrix C for Subset\n",
    "class_1_label = 1  # +1 for class 1 (number 4)\n",
    "class_2_label = -1  # -1 for class 2 (number 9)\n",
    "\n",
    "# Define known labels signal s_known_subset\n",
    "s_known_subset = np.zeros(len(X_subset))\n",
    "s_known_subset[y_binary_subset == class_1_label] = 1\n",
    "s_known_subset[y_binary_subset == class_2_label] = -1\n",
    "\n",
    "# Create the diagonal matrix C based on s_known_subset\n",
    "C_subset = np.diag(s_known_subset)"
   ]
  },
  {
   "cell_type": "code",
   "execution_count": 8,
   "id": "52ca8b67",
   "metadata": {},
   "outputs": [],
   "source": [
    "# Step 3: Compute precomputable matrices M1 and M2 for Subset\n",
    "I_subset = np.identity(len(A))\n",
    "M1_subset = np.dot((I_subset - A).T, (I_subset - A))\n",
    "M2_subset = np.dot(C_subset.T, C_subset)"
   ]
  },
  {
   "cell_type": "code",
   "execution_count": 9,
   "id": "944ebd65",
   "metadata": {},
   "outputs": [],
   "source": [
    "# Step 4: Find the Optimal Alpha for Subset\n",
    "alpha_values = np.linspace(0.01, 1.0, 100)  # Adjust the range and number of points as needed\n",
    "best_alpha_subset = None\n",
    "min_error_subset = np.inf\n",
    "\n",
    "for alpha in alpha_values:\n",
    "    s_predicted_subset = 2 * alpha * np.linalg.inv(M1_subset + 2 * alpha * M2_subset).dot(M2_subset).dot(s_known_subset)\n",
    "    error_subset = 0.5 * np.linalg.norm(s_predicted_subset - np.dot(A, s_predicted_subset)) ** 2 + alpha * np.linalg.norm(np.dot(C_subset, s_predicted_subset) - np.dot(C_subset, s_known_subset)) ** 2\n",
    "    if error_subset < min_error_subset:\n",
    "        min_error_subset = error_subset\n",
    "        best_alpha_subset = alpha"
   ]
  },
  {
   "cell_type": "code",
   "execution_count": 10,
   "id": "42c2702b",
   "metadata": {},
   "outputs": [],
   "source": [
    "# Step 5: Compute the Final Predicted Signal for Subset\n",
    "s_predicted_subset = 2 * best_alpha_subset * np.linalg.inv(M1_subset + 2 * best_alpha_subset * M2_subset).dot(M2_subset).dot(s_known_subset)"
   ]
  },
  {
   "cell_type": "code",
   "execution_count": 12,
   "id": "23ce0e5f",
   "metadata": {},
   "outputs": [],
   "source": [
    "# Classify s(predicted_subset) as -1 if between 0 and -1, else +1\n",
    "s_predicted_subset_classified = np.where(s_predicted_subset < 0, -1, 1)"
   ]
  },
  {
   "cell_type": "code",
   "execution_count": 13,
   "id": "7e81b059",
   "metadata": {},
   "outputs": [
    {
     "name": "stdout",
     "output_type": "stream",
     "text": [
      "s(known) for Subset:\n",
      "[ 0.  0.  0.  0.  0. -1.  0.  0.  1.  0.  0.  1.  0.  0.  0.  0.  0.  1.\n",
      "  0.  0.  0.  0.  0.  0.  0.  0. -1.  1.  0.  0.  0.  0.  0.  0.  0.  0.\n",
      "  0.  1.  0. -1.  0.  0.  0.  0.  0.  0. -1.  0.  0.  0.  0.  0.  0.  0.\n",
      "  0.  0.  0.  0.  0.  0.  0.  0.  1.  0.  0.  0.  0.  0.  0.  0.  0.  0.\n",
      "  0.  0.  0.  1.  0.  0.  0.  0.  0. -1.  0.  0.  0.  0.  0.  0.  0.  0.\n",
      "  0.  0. -1.  0.  0.  0.  0.  0.  1.  0.  0.  0.  0.  0.  0.  0.  0.  0.\n",
      " -1.  0.  0.  0.  0.  0.  0.  0.  0.  0.  0.  0.  0.  0. -1.  0.  0.  0.\n",
      "  0.  0.  0.  0.  0.  1.  0. -1. -1. -1.  0.  0.  1.  0.  0. -1.  0.  0.\n",
      "  0. -1.  0.  1.  0.  0.  0.  0.  0. -1.  0.  0.  0.  0.  0.  0.  0.  0.\n",
      "  0.  0.  0.  0.  0.  0.  0. -1.  1.  0.  0.  1.  0.  0.  0.  1.  1.  0.\n",
      "  0.  0. -1.  0.  0.  0.  0. -1.  1.  0. -1.  0.  0.  0. -1.  0.  0.  0.\n",
      "  1.  0. -1.  0.  1.  1.  0.  1.  1.  0.  0.  0.  0.  0.  0.  0.  0.  0.\n",
      " -1.  0.  0.  1.  0.  0.  0.  0. -1.  0. -1.  0.  0.  0.  0.  0.  0. -1.\n",
      "  0.  0.  0. -1.  0.  0. -1.  0.  0.  0.  0. -1.  0.  0.  0.  1.  0. -1.\n",
      "  0.  0.  1.  0.  0.  0.  0. -1.  0.  1.  0.  1.  0.  0.  0.  0.  0.  0.\n",
      "  0.  0. -1.  0.  0.  1.  0.  0.  0.  1.  0. -1.  0. -1.  0.  0.  0.  0.\n",
      "  0.  1.  0.  0.  0.  0.  0.  0.  0.  0. -1.  0. -1.  0.  0.  0.  0.  0.\n",
      "  0.  0.  0.  0.  0.  0.  0.  0.  0.  0.  0.  1. -1.  0.  0. -1.  0.  0.\n",
      " -1.  0.  0.  0.  0.  0.  0.  1.  0.  0.  1. -1.  0.  0.  0.  0.  0.  0.\n",
      "  0.  0.  0.  0.  0.  0.  0.  0.  0.  0.  0.  0.  0.  0.  0. -1.  0.  0.\n",
      "  0.  0. -1. -1. -1.  0. -1.  0.  0.  1.  0.  0. -1.  0.  0.  0.  0.  1.\n",
      " -1.  0. -1.  0.  0.  0.  1.  0.  0.  0.  0.  0.  0.  0.  0.  0.  0.  0.\n",
      "  1. -1.  0.  0.  0.  0. -1. -1.  0.  0.  0.  0.  0.  0. -1.  0.  0.  0.\n",
      "  0.  0.  0.  0.  0.  0.  0.  0.  0. -1.  0.  0.  0.  0.  0.  0.  1.  0.\n",
      "  0.  0.  0.  0.  0.  0.  0.  0.  0.  1.  1.  0.  0. -1.  0.  0.  0.  0.\n",
      "  0.  0.  1.  1.  0.  1.  0.  0.  0.  0.  0.  0.  0.  0.  0. -1.  1.  0.\n",
      "  0.  0. -1.  0.  0.  0.  0.  0. -1.  0.  0.  0.  0.  0.  0.  0.  0.  0.\n",
      "  0.  0.  0.  0.  0.  0.  0. -1.  0.  0.  0.  0.  0.  0.  0.  0. -1.  0.\n",
      "  0.  0.  0.  0.  1.  0. -1.  0.  0.  0.  1.  0.  0.  0.  0.  0.  0.  0.\n",
      "  0. -1.  0.  0.  0.  0.  0.  0.  0.  0.  0.  1.  0.  0. -1.  0.  0.  0.\n",
      "  0.  0.  0.  0.  0.  0.  0.  0.  1.  0.  0.  0.  0.  0. -1.  0.  1.  0.\n",
      "  0.  0.  0.  0.  0.  0.  0.  0.  0.  0.  0.  0.  0.  0.  1.  0.  0.  0.\n",
      "  0.  0.  0.  0.  0.  0.  0.  0.  0.  0.  0.  0.  0.  0.  0. -1.  0. -1.\n",
      "  0.  0.  0.  1.  0.  0.  0.  0.  0.  0. -1.  0.  0.  0. -1.  0.  0.  0.\n",
      "  0.  0.  0.  0.  0.  0.  0.  0.  0.  0.  0.  0.  0.  0. -1. -1.  1.  0.\n",
      "  0.  0.  0.  0.  0.  0.  0.  0.  0.  1.  0.  0.  0.  0.  0.  0.  0.  1.\n",
      "  0.  0.  0. -1. -1.  0.  0.  0.  1.  0.  0.  0.  0.  0.  0.  0.  0.  1.\n",
      "  0.  0.  0.  0.  0.  0.  0.  0.  0.  0.  0.  0.  0.  0.  0.  0.  0.  0.\n",
      "  0.  0.  0. -1.  1.  0.  0.  0.  0.  0. -1.  0.  0.  0.  0.  0. -1.  1.\n",
      "  0.  0.  0.  0.  0.  0.  0.  0.  0.  0.  1. -1.  0.  1.  0. -1.  0.  1.\n",
      "  0.  0.  0.  0. -1.  0.  0.  0.  0.  0.  0.  0.  0.  0.  0.  0.  0.  0.\n",
      "  0.  0.  0.  0.  0.  0.  0. -1.  0.  0.  0.  0.  0.  0.  0. -1.  0. -1.\n",
      "  0.  0.  0.  0.  0.  0.  0.  0.  0.  0.  0.  0.  0.  0.  0. -1.  0.  0.\n",
      "  0.  0.  0.  0.  0.  1.  0.  0.  0.  0.  1.  0.  0.  0.  0. -1.  0.  0.\n",
      "  0.  0.  1. -1.  0.  0.  0.  0.  0.  0.  0.  0. -1.  0.  0.  0.  0.  0.\n",
      "  0.  0.  0.  0.  0.  0. -1.  0.  0.  1.  1.  0.  0.  0.  0.  0.  0.  1.\n",
      "  0.  0.  0.  0.  0.  0.  0.  0. -1.  0.  0.  0.  0.  1.  1.  0. -1.  0.\n",
      "  0.  1.  0.  0.  0.  0.  0.  0.  0.  1.  0.  0.  0.  0.  0.  0.  0.  0.\n",
      "  1. -1.  0.  0. -1.  0.  0. -1.  0.  0.  0.  0. -1. -1.  1.  0.  0.  0.\n",
      "  0.  0.  0. -1.  0.  0.  0.  0.  1.  0.  0.  0.  0.  1.  0.  0.  0.  0.\n",
      "  0.  0.  0.  0.  0. -1.  0.  0.  0.  0.  0.  0.  0.  0.  0.  0.  0.  0.\n",
      "  1.  0.  0.  0.  0.  0.  0.  0.  0.  0.  0.  0.  0.  0.  0.  0.  0.  0.\n",
      "  1.  0.  0.  0.  0.  0.  0.  1.  0.  1.  0.  0.  0.  0.  0.  0.  0.  0.\n",
      "  0. -1.  0.  0. -1.  0.  0.  0.  0.  0.  0.  0.  0.  1.  0.  0. -1.  1.\n",
      "  0.  0.  0.  0.  0.  0.  0.  1.  0.  0.  0.  0.  0.  1.  0.  0.  0.  0.\n",
      "  0.  0. -1.  0.  0.  0.  0.  0.  0.  0.]\n",
      "s(predicted) for Subset:\n",
      "[ 1  1 -1 -1 -1 -1 -1 -1 -1  1  1  1  1 -1  1 -1  1  1  1 -1  1  1 -1 -1\n",
      " -1  1 -1 -1 -1  1  1 -1  1  1 -1 -1  1  1 -1 -1 -1  1  1  1 -1  1  1 -1\n",
      "  1 -1 -1  1 -1  1 -1 -1 -1  1 -1 -1 -1  1  1  1  1  1  1  1  1 -1 -1 -1\n",
      " -1 -1 -1 -1  1 -1 -1  1 -1 -1 -1 -1 -1  1  1 -1 -1 -1 -1  1  1 -1  1 -1\n",
      " -1 -1  1  1  1  1 -1 -1 -1 -1  1 -1  1 -1  1  1 -1  1  1 -1  1 -1 -1 -1\n",
      "  1 -1 -1  1  1 -1 -1 -1 -1  1 -1 -1  1 -1  1  1 -1  1 -1 -1  1 -1  1  1\n",
      " -1 -1  1  1  1 -1 -1 -1  1 -1  1 -1  1  1 -1 -1  1  1  1  1 -1 -1 -1 -1\n",
      "  1 -1  1  1 -1  1  1 -1 -1  1 -1  1  1 -1 -1  1 -1 -1 -1 -1 -1  1  1  1\n",
      " -1 -1  1  1 -1 -1  1 -1 -1  1 -1  1  1  1  1  1 -1 -1  1 -1 -1 -1  1 -1\n",
      "  1 -1  1 -1  1 -1  1  1  1  1  1 -1  1 -1 -1 -1  1 -1  1  1  1 -1  1  1\n",
      " -1  1  1 -1 -1 -1  1  1 -1  1 -1  1  1  1 -1 -1 -1 -1 -1  1  1  1 -1  1\n",
      " -1  1  1  1 -1  1 -1  1 -1  1  1  1 -1 -1 -1  1  1 -1  1  1 -1  1  1 -1\n",
      "  1 -1  1 -1  1 -1 -1 -1  1  1 -1  1  1 -1 -1  1 -1  1  1  1 -1 -1  1 -1\n",
      " -1 -1  1 -1  1  1 -1  1  1 -1  1  1  1  1 -1 -1  1  1 -1  1  1 -1 -1  1\n",
      " -1 -1  1  1  1 -1  1  1  1  1 -1  1  1  1  1  1 -1 -1  1  1 -1 -1  1  1\n",
      " -1  1 -1  1  1 -1  1 -1 -1  1  1 -1  1 -1  1 -1 -1  1 -1 -1 -1  1  1 -1\n",
      "  1 -1  1  1 -1  1  1 -1 -1  1 -1 -1  1 -1 -1 -1 -1  1  1 -1 -1 -1 -1 -1\n",
      " -1 -1 -1  1  1  1 -1  1 -1  1  1  1 -1  1 -1  1  1 -1 -1  1 -1  1  1 -1\n",
      " -1 -1  1  1  1 -1 -1  1  1  1 -1 -1 -1 -1 -1  1 -1 -1  1 -1  1  1  1  1\n",
      " -1 -1  1  1 -1 -1  1  1 -1 -1  1 -1  1  1  1 -1  1  1  1 -1 -1  1  1  1\n",
      "  1 -1  1  1 -1 -1 -1 -1 -1  1 -1  1 -1 -1 -1 -1  1  1 -1 -1 -1  1 -1 -1\n",
      "  1  1  1  1  1 -1 -1  1  1  1  1 -1 -1 -1 -1  1  1  1  1  1 -1  1 -1 -1\n",
      "  1  1  1 -1 -1 -1  1 -1  1 -1 -1  1  1  1  1  1 -1  1 -1  1  1 -1  1  1\n",
      "  1 -1  1 -1  1  1  1  1 -1  1  1 -1  1 -1 -1  1  1 -1  1 -1 -1  1  1  1\n",
      "  1 -1  1  1 -1 -1 -1  1 -1  1  1 -1  1 -1 -1 -1 -1 -1  1 -1  1 -1  1  1\n",
      " -1 -1  1 -1 -1  1  1 -1  1 -1  1  1  1 -1  1  1 -1  1 -1 -1  1  1  1 -1\n",
      " -1  1 -1 -1  1  1 -1  1  1  1  1 -1 -1 -1  1 -1  1  1 -1  1  1 -1  1  1\n",
      "  1  1  1 -1  1 -1  1 -1 -1 -1  1  1 -1 -1  1 -1 -1 -1  1  1  1  1  1 -1\n",
      "  1 -1  1 -1  1 -1 -1  1 -1 -1  1 -1  1 -1 -1 -1 -1 -1 -1  1  1  1 -1 -1\n",
      "  1  1  1  1  1 -1 -1  1 -1 -1 -1 -1 -1 -1 -1 -1  1 -1  1  1  1 -1 -1 -1\n",
      "  1 -1  1 -1 -1 -1 -1 -1  1  1 -1  1  1  1  1 -1 -1  1  1 -1 -1 -1  1 -1\n",
      " -1  1 -1 -1 -1 -1  1 -1  1 -1 -1 -1 -1 -1  1 -1 -1 -1 -1 -1  1 -1 -1 -1\n",
      " -1 -1  1 -1  1 -1 -1 -1 -1 -1  1  1 -1 -1 -1 -1 -1  1 -1  1 -1 -1 -1  1\n",
      "  1  1  1 -1 -1 -1 -1 -1 -1  1  1  1 -1 -1 -1  1 -1 -1 -1  1  1  1 -1  1\n",
      "  1  1 -1 -1  1 -1 -1  1 -1 -1  1 -1  1  1  1  1 -1  1 -1 -1 -1  1 -1  1\n",
      "  1 -1 -1  1 -1 -1 -1  1  1 -1 -1  1 -1 -1 -1 -1  1 -1  1 -1  1 -1  1  1\n",
      "  1  1 -1 -1 -1 -1  1 -1 -1  1 -1  1  1  1 -1 -1 -1 -1  1 -1 -1  1  1 -1\n",
      "  1 -1  1 -1  1  1 -1 -1  1  1  1  1 -1  1  1  1 -1  1 -1  1  1 -1 -1  1\n",
      "  1 -1 -1 -1  1 -1 -1 -1 -1 -1 -1 -1  1 -1  1  1 -1 -1  1 -1  1  1 -1  1\n",
      "  1 -1  1  1  1  1 -1  1 -1  1 -1 -1  1 -1  1 -1  1  1 -1 -1  1 -1  1 -1\n",
      " -1 -1  1 -1 -1  1  1  1 -1  1  1  1  1 -1 -1 -1 -1 -1 -1 -1 -1  1  1 -1\n",
      "  1  1  1 -1  1 -1 -1 -1 -1 -1  1 -1  1  1 -1 -1]\n"
     ]
    }
   ],
   "source": [
    "# Print s(known) and s(predicted) for Subset\n",
    "print(\"s(known) for Subset:\")\n",
    "print(s_known_subset)\n",
    "\n",
    "print(\"s(predicted) for Subset:\")\n",
    "print(s_predicted_subset_classified)"
   ]
  },
  {
   "cell_type": "code",
   "execution_count": null,
   "id": "372b1da0",
   "metadata": {},
   "outputs": [],
   "source": []
  }
 ],
 "metadata": {
  "kernelspec": {
   "display_name": "Python 3 (ipykernel)",
   "language": "python",
   "name": "python3"
  },
  "language_info": {
   "codemirror_mode": {
    "name": "ipython",
    "version": 3
   },
   "file_extension": ".py",
   "mimetype": "text/x-python",
   "name": "python",
   "nbconvert_exporter": "python",
   "pygments_lexer": "ipython3",
   "version": "3.10.9"
  }
 },
 "nbformat": 4,
 "nbformat_minor": 5
}
